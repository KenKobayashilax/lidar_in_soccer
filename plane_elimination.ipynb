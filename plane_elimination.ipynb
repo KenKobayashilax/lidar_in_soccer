{
 "cells": [
  {
   "cell_type": "markdown",
   "metadata": {},
   "source": [
    "Preparation"
   ]
  },
  {
   "cell_type": "code",
   "execution_count": 15,
   "metadata": {},
   "outputs": [
    {
     "name": "stdout",
     "output_type": "stream",
     "text": [
      "The autoreload extension is already loaded. To reload it, use:\n",
      "  %reload_ext autoreload\n"
     ]
    }
   ],
   "source": [
    "#after running this, no need to restart the kurnel when you modify other files.\n",
    "%load_ext autoreload\n",
    "%autoreload 2\n",
    "\n",
    "import os\n",
    "import numpy as np\n",
    "import open3d\n",
    "from settings import DATA_PATH\n",
    "import numpy as np\n",
    "from utils.visualizer import save_camera_params\n",
    "import utils.visualizer as visualizer\n",
    "\n",
    "data_type_name_pcd = \"LIVOX_Hallway_pcds\"\n",
    "experiment_name = \"jogging_fast_4th\"\n",
    "dir_name = \"res100ms_start13.5s\"\n",
    "\n",
    "#directory path of pcd files\n",
    "directory_path = os.path.join(DATA_PATH, data_type_name_pcd, experiment_name, dir_name)\n",
    "\n",
    "#add save_path\n",
    "experiment_name_eliminated = experiment_name + \"_eliminated\"\n",
    "dir_name_eliminated= dir_name + \"_eliminated\"\n",
    "folder_eliminated = os.path.join(DATA_PATH, data_type_name_pcd, experiment_name_eliminated, dir_name_eliminated)\n",
    "\n",
    "if not os.path.exists(folder_eliminated):\n",
    "    os.makedirs(folder_eliminated)\n",
    "\n",
    "# make the list of files\n",
    "file_list = []\n",
    "for filename in os.listdir(directory_path):\n",
    "    if os.path.isfile(os.path.join(directory_path, filename)):\n",
    "        file_list.append(os.path.join(directory_path, filename))\n",
    "        \n",
    "#select your view point and close your window.\n",
    "pcd = open3d.io.read_point_cloud(file_list[0])"
   ]
  },
  {
   "cell_type": "markdown",
   "metadata": {},
   "source": [
    "Main"
   ]
  },
  {
   "cell_type": "code",
   "execution_count": 16,
   "metadata": {},
   "outputs": [],
   "source": [
    "from plane_elimination.plane_elimination import eliminate_planes\n",
    "from plane_elimination.plane_equotions_list import planes_list, bool_list #list to define plane equotions\n",
    "from detection.detect import save_bbox_result\n",
    "\n",
    "visualize = False #whether visualize the result of elimination\n",
    "save = True #save to \"folder_eliminated\"\n",
    "\n",
    "#process pcd by pcd\n",
    "for inx, pcd_file in enumerate(file_list):\n",
    "    pcd = open3d.io.read_point_cloud(pcd_file)\n",
    "    cropped_pcd = eliminate_planes(pcd, planes_list=planes_list, bool_list=bool_list, visualize=visualize)\n",
    "    save_path_eliminated = folder_eliminated + '/' + os.path.basename(pcd_file)\n",
    "    if save:\n",
    "        open3d.io.write_point_cloud(save_path_eliminated, cropped_pcd)\n",
    "    "
   ]
  },
  {
   "cell_type": "markdown",
   "metadata": {},
   "source": [
    "check and visualize how elimination works (option)"
   ]
  },
  {
   "cell_type": "code",
   "execution_count": null,
   "metadata": {},
   "outputs": [
    {
     "name": "stdout",
     "output_type": "stream",
     "text": [
      "[Open3D WARNING] GLFW Error: WGL: Failed to make context current: 要求された変換操作はサポートされていません。 \n"
     ]
    },
    {
     "data": {
      "text/plain": [
       "PointCloud with 15326 points."
      ]
     },
     "execution_count": 114,
     "metadata": {},
     "output_type": "execute_result"
    }
   ],
   "source": [
    "from plane_elimination.plane_elimination import eliminate_one_plane\n",
    "\n",
    "pcd = open3d.io.read_point_cloud(file_list[0])\n",
    "\n",
    "#this means clop -0.00x + -0.02y + 1.00z + -2.00 < 0 <- equotion of ceiling\n",
    "plane = [-0.00, -0.02, 1.00, -2.00] #cooefficients of plane equotion\n",
    "smaller = True #whether < or > in plane equotion\n",
    "\n",
    "#outliers are visualized as red points\n",
    "eliminate_one_plane(pcd, plane=plane, smaller=smaller, visualize=True)\n"
   ]
  },
  {
   "cell_type": "markdown",
   "metadata": {},
   "source": [
    "detect plane equotions by using RANSAC (option)"
   ]
  },
  {
   "cell_type": "code",
   "execution_count": null,
   "metadata": {},
   "outputs": [
    {
     "name": "stdout",
     "output_type": "stream",
     "text": [
      "Plane equation: -0.00x + -0.02y + 1.00z + 1.04 = 0\n",
      "[Open3D WARNING] GLFW Error: WGL: Failed to make context current: ハンドルが無効です。 \n"
     ]
    }
   ],
   "source": [
    "plane_model, inliers = pcd.segment_plane(distance_threshold=0.05,\n",
    "                                            ransac_n=3,\n",
    "                                            num_iterations=1000)\n",
    "[a, b, c, d] = plane_model\n",
    "smaller = True #whether equotion is < or >\n",
    "\n",
    "print(f\"Plane equation: {a:.2f}x + {b:.2f}y + {c:.2f}z + {d:.2f} = 0\")\n",
    "\n",
    "points = np.asarray(pcd.points)\n",
    "values = a * points[:, 0] + b * points[:, 1] + c * points[:, 2] + d\n",
    "\n",
    "\n",
    "# Select points fulfilling the equation of the plane\n",
    "if smaller:\n",
    "    inliers = np.where(values < 0)[0]\n",
    "else:\n",
    "    inliers = np.where(values > 0)[0]\n",
    "\n",
    "# Visualize the selected points\n",
    "inlier_cloud = pcd.select_by_index(inliers)\n",
    "outlier_cloud = pcd.select_by_index(inliers, invert=True)\n",
    "outlier_cloud.paint_uniform_color([1.0, 0, 0])\n",
    "\n",
    "open3d.visualization.draw_geometries([inlier_cloud, outlier_cloud])"
   ]
  }
 ],
 "metadata": {
  "kernelspec": {
   "display_name": "lidar_soccer",
   "language": "python",
   "name": "python3"
  },
  "language_info": {
   "codemirror_mode": {
    "name": "ipython",
    "version": 3
   },
   "file_extension": ".py",
   "mimetype": "text/x-python",
   "name": "python",
   "nbconvert_exporter": "python",
   "pygments_lexer": "ipython3",
   "version": "3.10.0"
  }
 },
 "nbformat": 4,
 "nbformat_minor": 2
}
