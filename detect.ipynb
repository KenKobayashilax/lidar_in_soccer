{
 "cells": [
  {
   "cell_type": "code",
   "execution_count": 2,
   "metadata": {},
   "outputs": [],
   "source": [
    "#after running this, no need to restart the kurnel when you modify other files.\n",
    "%load_ext autoreload\n",
    "%autoreload 2"
   ]
  },
  {
   "cell_type": "markdown",
   "metadata": {},
   "source": [
    "File loading and Set a view point"
   ]
  },
  {
   "cell_type": "code",
   "execution_count": 3,
   "metadata": {},
   "outputs": [
    {
     "name": "stdout",
     "output_type": "stream",
     "text": [
      "Jupyter environment detected. Enabling Open3D WebVisualizer.\n",
      "[Open3D INFO] WebRTC GUI backend enabled.\n",
      "[Open3D INFO] WebRTCWindowSystem: HTTP handshake server disabled.\n",
      "set the view point and close the window\n"
     ]
    }
   ],
   "source": [
    "import os\n",
    "import open3d\n",
    "from settings import DATA_PATH\n",
    "import clusterization.clusterize as clusterizer\n",
    "import numpy as np\n",
    "from utils.visualizer import save_camera_params\n",
    "from utils.handling_cluster import visualize_by_cluster, crop_cluster\n",
    "from detection.detect import compute_nearest_cluster, change_cluster_color\n",
    "import utils.visualizer as visualizer\n",
    "\n",
    "data_type_name_pcd = \"LIVOX_Hallway_pcds\"\n",
    "experiment_name = \"Walking_to_end_1st1\"\n",
    "dir_name = \"res100ms_start30s\"\n",
    "\n",
    "#directory path of pcd files\n",
    "directory_path = os.path.join(DATA_PATH, data_type_name_pcd, experiment_name, dir_name)\n",
    "#'{DATA_PATH}/LIVOX_Hallway_pcds/jogging_fast_4th/res100ms_start13.5s'\n",
    "\n",
    "#add save_path\n",
    "experiment_name_clustered = experiment_name + \"_clustered\"\n",
    "dir_name_clustered= dir_name + \"_clustered\"\n",
    "folder_clustered = os.path.join(DATA_PATH, data_type_name_pcd, experiment_name_clustered, dir_name_clustered)\n",
    "\n",
    "if not os.path.exists(folder_clustered):\n",
    "    os.makedirs(folder_clustered)\n",
    "\n",
    "# make the list of files\n",
    "file_list = []\n",
    "for filename in os.listdir(directory_path):\n",
    "    if os.path.isfile(os.path.join(directory_path, filename)):\n",
    "        file_list.append(os.path.join(directory_path, filename))\n",
    "        \n",
    "#select your view point and close your window.\n",
    "pcd = open3d.io.read_point_cloud(file_list[0])\n",
    "cam_params = save_camera_params(pcd)\n"
   ]
  },
  {
   "cell_type": "markdown",
   "metadata": {},
   "source": [
    "Detection"
   ]
  },
  {
   "cell_type": "code",
   "execution_count": 8,
   "metadata": {},
   "outputs": [
    {
     "name": "stdout",
     "output_type": "stream",
     "text": [
      "Plane equation: -0.00x + -0.02y + 1.00z + 1.04 = 0\n",
      "Plane equation: 0.00x + -0.02y + 1.00z + -2.29 = 0\n",
      "num_clusters 13\n",
      "[Open3D WARNING] GLFW Error: WGL: Failed to make context current: 不支持请求的转换操作。 \n",
      "Plane equation: -0.00x + -0.02y + 1.00z + 1.04 = 0\n",
      "Plane equation: 0.00x + -0.02y + 1.00z + -2.28 = 0\n",
      "num_clusters 12\n",
      "Plane equation: -0.00x + -0.02y + 1.00z + 1.04 = 0\n",
      "Plane equation: 0.00x + -0.02y + 1.00z + -2.28 = 0\n",
      "num_clusters 13\n",
      "Plane equation: -0.00x + -0.02y + 1.00z + 1.04 = 0\n",
      "Plane equation: 0.00x + -0.02y + 1.00z + -2.28 = 0\n",
      "num_clusters 13\n",
      "Plane equation: -0.00x + -0.02y + 1.00z + 1.04 = 0\n",
      "Plane equation: 0.00x + -0.02y + 1.00z + -2.28 = 0\n",
      "num_clusters 12\n",
      "Plane equation: -0.00x + -0.02y + 1.00z + 1.03 = 0\n",
      "Plane equation: 0.00x + -0.02y + 1.00z + -2.28 = 0\n",
      "num_clusters 13\n",
      "Plane equation: -0.00x + -0.02y + 1.00z + 1.04 = 0\n",
      "Plane equation: 0.00x + -0.02y + 1.00z + -2.29 = 0\n",
      "num_clusters 11\n",
      "Plane equation: -0.00x + -0.02y + 1.00z + 1.04 = 0\n",
      "Plane equation: 0.00x + -0.02y + 1.00z + -2.29 = 0\n",
      "num_clusters 13\n",
      "Plane equation: -0.00x + -0.02y + 1.00z + 1.04 = 0\n",
      "Plane equation: 0.00x + -0.02y + 1.00z + -2.28 = 0\n",
      "num_clusters 12\n",
      "Plane equation: -0.00x + -0.02y + 1.00z + 1.04 = 0\n",
      "Plane equation: 0.00x + -0.02y + 1.00z + -2.29 = 0\n",
      "num_clusters 10\n"
     ]
    },
    {
     "ename": "KeyboardInterrupt",
     "evalue": "",
     "output_type": "error",
     "traceback": [
      "\u001b[1;31m---------------------------------------------------------------------------\u001b[0m",
      "\u001b[1;31mKeyboardInterrupt\u001b[0m                         Traceback (most recent call last)",
      "Cell \u001b[1;32mIn[8], line 31\u001b[0m\n\u001b[0;32m     24\u001b[0m \u001b[38;5;28;01melse\u001b[39;00m:\n\u001b[0;32m     25\u001b[0m     visualize \u001b[38;5;241m=\u001b[39m \u001b[38;5;28;01mFalse\u001b[39;00m\n\u001b[0;32m     26\u001b[0m pcd, labels \u001b[38;5;241m=\u001b[39m clusterizer\u001b[38;5;241m.\u001b[39mclusterize(pcd, eps\u001b[38;5;241m=\u001b[39meps,\n\u001b[0;32m     27\u001b[0m                          time_duration\u001b[38;5;241m=\u001b[39m\u001b[38;5;28;01mNone\u001b[39;00m, \u001b[38;5;66;03m#time duration that each windows open for. If you choose None, close window manually.\u001b[39;00m\n\u001b[0;32m     28\u001b[0m                          window_name\u001b[38;5;241m=\u001b[39mos\u001b[38;5;241m.\u001b[39mpath\u001b[38;5;241m.\u001b[39mbasename(pcd_file), \u001b[38;5;66;03m#window name changes accorrding to file name.\u001b[39;00m\n\u001b[0;32m     29\u001b[0m                          cam_params\u001b[38;5;241m=\u001b[39mcam_params,\u001b[38;5;66;03m#camera parameter(view point) you selected\u001b[39;00m\n\u001b[0;32m     30\u001b[0m                          save_path\u001b[38;5;241m=\u001b[39mpcd_clustered,\n\u001b[1;32m---> 31\u001b[0m                          visualize\u001b[38;5;241m=\u001b[39m\u001b[43mvisualize\u001b[49m\n\u001b[0;32m     32\u001b[0m                          ) \n\u001b[0;32m     34\u001b[0m \u001b[38;5;66;03m#select human cluster in first frame\u001b[39;00m\n\u001b[0;32m     35\u001b[0m \u001b[38;5;66;03m#select cluster id in comand line. check each window name.\u001b[39;00m\n\u001b[0;32m     36\u001b[0m \u001b[38;5;28;01mif\u001b[39;00m i\u001b[38;5;241m==\u001b[39m\u001b[38;5;241m0\u001b[39m:\n",
      "Cell \u001b[1;32mIn[8], line 31\u001b[0m\n\u001b[0;32m     24\u001b[0m \u001b[38;5;28;01melse\u001b[39;00m:\n\u001b[0;32m     25\u001b[0m     visualize \u001b[38;5;241m=\u001b[39m \u001b[38;5;28;01mFalse\u001b[39;00m\n\u001b[0;32m     26\u001b[0m pcd, labels \u001b[38;5;241m=\u001b[39m clusterizer\u001b[38;5;241m.\u001b[39mclusterize(pcd, eps\u001b[38;5;241m=\u001b[39meps,\n\u001b[0;32m     27\u001b[0m                          time_duration\u001b[38;5;241m=\u001b[39m\u001b[38;5;28;01mNone\u001b[39;00m, \u001b[38;5;66;03m#time duration that each windows open for. If you choose None, close window manually.\u001b[39;00m\n\u001b[0;32m     28\u001b[0m                          window_name\u001b[38;5;241m=\u001b[39mos\u001b[38;5;241m.\u001b[39mpath\u001b[38;5;241m.\u001b[39mbasename(pcd_file), \u001b[38;5;66;03m#window name changes accorrding to file name.\u001b[39;00m\n\u001b[0;32m     29\u001b[0m                          cam_params\u001b[38;5;241m=\u001b[39mcam_params,\u001b[38;5;66;03m#camera parameter(view point) you selected\u001b[39;00m\n\u001b[0;32m     30\u001b[0m                          save_path\u001b[38;5;241m=\u001b[39mpcd_clustered,\n\u001b[1;32m---> 31\u001b[0m                          visualize\u001b[38;5;241m=\u001b[39m\u001b[43mvisualize\u001b[49m\n\u001b[0;32m     32\u001b[0m                          ) \n\u001b[0;32m     34\u001b[0m \u001b[38;5;66;03m#select human cluster in first frame\u001b[39;00m\n\u001b[0;32m     35\u001b[0m \u001b[38;5;66;03m#select cluster id in comand line. check each window name.\u001b[39;00m\n\u001b[0;32m     36\u001b[0m \u001b[38;5;28;01mif\u001b[39;00m i\u001b[38;5;241m==\u001b[39m\u001b[38;5;241m0\u001b[39m:\n",
      "File \u001b[1;32m_pydevd_bundle/pydevd_cython.pyx:1457\u001b[0m, in \u001b[0;36m_pydevd_bundle.pydevd_cython.SafeCallWrapper.__call__\u001b[1;34m()\u001b[0m\n",
      "File \u001b[1;32m_pydevd_bundle/pydevd_cython.pyx:701\u001b[0m, in \u001b[0;36m_pydevd_bundle.pydevd_cython.PyDBFrame.trace_dispatch\u001b[1;34m()\u001b[0m\n",
      "File \u001b[1;32m_pydevd_bundle/pydevd_cython.pyx:1152\u001b[0m, in \u001b[0;36m_pydevd_bundle.pydevd_cython.PyDBFrame.trace_dispatch\u001b[1;34m()\u001b[0m\n",
      "File \u001b[1;32m_pydevd_bundle/pydevd_cython.pyx:1135\u001b[0m, in \u001b[0;36m_pydevd_bundle.pydevd_cython.PyDBFrame.trace_dispatch\u001b[1;34m()\u001b[0m\n",
      "File \u001b[1;32m_pydevd_bundle/pydevd_cython.pyx:312\u001b[0m, in \u001b[0;36m_pydevd_bundle.pydevd_cython.PyDBFrame.do_wait_suspend\u001b[1;34m()\u001b[0m\n",
      "File \u001b[1;32mc:\\Users\\yangx\\anaconda3\\envs\\pcp\\lib\\site-packages\\debugpy\\_vendored\\pydevd\\pydevd.py:2070\u001b[0m, in \u001b[0;36mPyDB.do_wait_suspend\u001b[1;34m(self, thread, frame, event, arg, exception_type)\u001b[0m\n\u001b[0;32m   2067\u001b[0m             from_this_thread\u001b[38;5;241m.\u001b[39mappend(frame_custom_thread_id)\n\u001b[0;32m   2069\u001b[0m     \u001b[38;5;28;01mwith\u001b[39;00m \u001b[38;5;28mself\u001b[39m\u001b[38;5;241m.\u001b[39m_threads_suspended_single_notification\u001b[38;5;241m.\u001b[39mnotify_thread_suspended(thread_id, thread, stop_reason):\n\u001b[1;32m-> 2070\u001b[0m         keep_suspended \u001b[38;5;241m=\u001b[39m \u001b[38;5;28;43mself\u001b[39;49m\u001b[38;5;241;43m.\u001b[39;49m\u001b[43m_do_wait_suspend\u001b[49m\u001b[43m(\u001b[49m\u001b[43mthread\u001b[49m\u001b[43m,\u001b[49m\u001b[43m \u001b[49m\u001b[43mframe\u001b[49m\u001b[43m,\u001b[49m\u001b[43m \u001b[49m\u001b[43mevent\u001b[49m\u001b[43m,\u001b[49m\u001b[43m \u001b[49m\u001b[43marg\u001b[49m\u001b[43m,\u001b[49m\u001b[43m \u001b[49m\u001b[43msuspend_type\u001b[49m\u001b[43m,\u001b[49m\u001b[43m \u001b[49m\u001b[43mfrom_this_thread\u001b[49m\u001b[43m,\u001b[49m\u001b[43m \u001b[49m\u001b[43mframes_tracker\u001b[49m\u001b[43m)\u001b[49m\n\u001b[0;32m   2072\u001b[0m frames_list \u001b[38;5;241m=\u001b[39m \u001b[38;5;28;01mNone\u001b[39;00m\n\u001b[0;32m   2074\u001b[0m \u001b[38;5;28;01mif\u001b[39;00m keep_suspended:\n\u001b[0;32m   2075\u001b[0m     \u001b[38;5;66;03m# This means that we should pause again after a set next statement.\u001b[39;00m\n",
      "File \u001b[1;32mc:\\Users\\yangx\\anaconda3\\envs\\pcp\\lib\\site-packages\\debugpy\\_vendored\\pydevd\\pydevd.py:2106\u001b[0m, in \u001b[0;36mPyDB._do_wait_suspend\u001b[1;34m(self, thread, frame, event, arg, suspend_type, from_this_thread, frames_tracker)\u001b[0m\n\u001b[0;32m   2103\u001b[0m         \u001b[38;5;28mself\u001b[39m\u001b[38;5;241m.\u001b[39m_call_input_hook()\n\u001b[0;32m   2105\u001b[0m     \u001b[38;5;28mself\u001b[39m\u001b[38;5;241m.\u001b[39mprocess_internal_commands()\n\u001b[1;32m-> 2106\u001b[0m     \u001b[43mtime\u001b[49m\u001b[38;5;241;43m.\u001b[39;49m\u001b[43msleep\u001b[49m\u001b[43m(\u001b[49m\u001b[38;5;241;43m0.01\u001b[39;49m\u001b[43m)\u001b[49m\n\u001b[0;32m   2108\u001b[0m \u001b[38;5;28mself\u001b[39m\u001b[38;5;241m.\u001b[39mcancel_async_evaluation(get_current_thread_id(thread), \u001b[38;5;28mstr\u001b[39m(\u001b[38;5;28mid\u001b[39m(frame)))\n\u001b[0;32m   2110\u001b[0m \u001b[38;5;66;03m# process any stepping instructions\u001b[39;00m\n",
      "\u001b[1;31mKeyboardInterrupt\u001b[0m: "
     ]
    }
   ],
   "source": [
    "#add save_path\n",
    "experiment_name_tracked = experiment_name + \"_tracked\"\n",
    "dir_name_tracked= dir_name + \"_tracked\"\n",
    "folder_tracked = os.path.join(DATA_PATH, data_type_name_pcd, experiment_name_tracked, dir_name_tracked)\n",
    "\n",
    "if not os.path.exists(folder_tracked):\n",
    "    os.makedirs(folder_tracked)\n",
    "\n",
    "\n",
    "#clusterize each files and visualize.\n",
    "for i, pcd_file in enumerate(file_list):\n",
    "    pcd = open3d.io.read_point_cloud(pcd_file)\n",
    "    \n",
    "    #initialization\n",
    "    if i==0:\n",
    "        eps = 0.5\n",
    "        center_prev = np.zeros(3) #initialize center of human cluster in previous frame\n",
    "    \n",
    "    pcd_clustered = folder_clustered + \"/\" + os.path.basename(pcd_file) #pcd_clustered_save_path   \n",
    "    \n",
    "    #clusterization\n",
    "    if i==0:\n",
    "        visualize = True\n",
    "    else:\n",
    "        visualize = False\n",
    "    pcd, labels = clusterizer.clusterize(pcd, eps=eps,\n",
    "                             time_duration=None, #time duration that each windows open for. If you choose None, close window manually.\n",
    "                             window_name=os.path.basename(pcd_file), #window name changes accorrding to file name.\n",
    "                             cam_params=cam_params,#camera parameter(view point) you selected\n",
    "                             save_path=pcd_clustered,\n",
    "                             visualize=visualize\n",
    "                             ) \n",
    "    \n",
    "    #select human cluster in first frame\n",
    "    #select cluster id in comand line. check each window name.\n",
    "    if i==0:\n",
    "        visualize_by_cluster(pcd, labels)\n",
    "        cluster_id = int(input(\"Please enter cluster id: \"))\n",
    "        cluster_of_people = crop_cluster(pcd, labels, cluster_id=cluster_id)\n",
    "        center_prev = cluster_of_people.get_center()\n",
    "    else:\n",
    "        cluster_id = compute_nearest_cluster(pcd, labels, center_prev)\n",
    "        \n",
    "    #color of points in cluster_id is changed into red.\n",
    "    pcd = change_cluster_color(pcd, labels, cluster_id=cluster_id)\n",
    "    visualizer.visualize(pcd, time_duration=0.5, cam_params=cam_params)\n",
    "    \n",
    "    #crop (and save) selected cluser\n",
    "    cropped_pcd = crop_cluster(pcd, labels, cluster_id=cluster_id, visualize=False)\n",
    "    \n",
    "    #compute center and distance between two centers\n",
    "    center_tmp = cropped_pcd.get_center()\n",
    "    current_dist = np.linalg.norm (center_prev - center_tmp)\n",
    "    \n",
    "    #update center if current cluster is close to previous one\n",
    "    if current_dist < 3:\n",
    "        center_prev = center_tmp\n",
    "    \n",
    "    \n",
    "    # save the cropped cluster(pcd, save_path)\n",
    "    save_path_tracked = folder_tracked + '/' + os.path.basename(pcd_file)\n",
    "    if save_path_tracked != None:\n",
    "        open3d.io.write_point_cloud(save_path_tracked, cropped_pcd)\n",
    "    \n",
    "\n",
    "#label_list could be used later."
   ]
  },
  {
   "cell_type": "code",
   "execution_count": 5,
   "metadata": {},
   "outputs": [
    {
     "data": {
      "text/plain": [
       "array([1.82205592, 0.28191469, 0.10410521])"
      ]
     },
     "execution_count": 5,
     "metadata": {},
     "output_type": "execute_result"
    }
   ],
   "source": [
    "center_prev"
   ]
  },
  {
   "cell_type": "code",
   "execution_count": null,
   "metadata": {},
   "outputs": [],
   "source": []
  }
 ],
 "metadata": {
  "kernelspec": {
   "display_name": "lidar_soccer",
   "language": "python",
   "name": "python3"
  },
  "language_info": {
   "codemirror_mode": {
    "name": "ipython",
    "version": 3
   },
   "file_extension": ".py",
   "mimetype": "text/x-python",
   "name": "python",
   "nbconvert_exporter": "python",
   "pygments_lexer": "ipython3",
   "version": "3.10.11"
  }
 },
 "nbformat": 4,
 "nbformat_minor": 2
}
