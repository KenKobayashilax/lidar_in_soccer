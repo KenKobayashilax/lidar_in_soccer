{
 "cells": [
  {
   "cell_type": "code",
   "execution_count": 23,
   "metadata": {},
   "outputs": [
    {
     "name": "stdout",
     "output_type": "stream",
     "text": [
      "The autoreload extension is already loaded. To reload it, use:\n",
      "  %reload_ext autoreload\n"
     ]
    }
   ],
   "source": [
    "#after running this, no need to restart the kurnel when you modify other files.\n",
    "%load_ext autoreload\n",
    "%autoreload 2\n",
    "\n",
    "import os\n",
    "import numpy as np\n",
    "import open3d\n",
    "from settings import DATA_PATH\n",
    "import numpy as np\n",
    "data_type_name_pcd = \"LIVOX_Hallway_pcds\"\n",
    "experiment_name = \"jogging_fast_4th\"\n",
    "dir_name = \"res100ms_start13.5s\"\n",
    "\n",
    "#directory path of pcd files\n",
    "directory_path = os.path.join(DATA_PATH, data_type_name_pcd, experiment_name, dir_name)\n",
    "#'{DATA_PATH}/LIVOX_Hallway_pcds/jogging_fast_4th/res100ms_start13.5s'\n",
    "\n",
    "#add save_path\n",
    "experiment_name_images = experiment_name + \"_images\"\n",
    "dir_name_images= dir_name + \"_images\"\n",
    "folder_images = os.path.join(DATA_PATH, data_type_name_pcd, experiment_name_images, dir_name_images)\n",
    "\n",
    "if not os.path.exists(folder_images):\n",
    "    os.makedirs(folder_images)\n",
    "\n",
    "# make the list of files\n",
    "file_list = []\n",
    "for filename in os.listdir(directory_path):\n",
    "    if os.path.isfile(os.path.join(directory_path, filename)):\n",
    "        file_list.append(os.path.join(directory_path, filename))"
   ]
  },
  {
   "cell_type": "markdown",
   "metadata": {},
   "source": [
    "visualize pcd file and save images into folder  \n",
    "set view angle and close the window -> start"
   ]
  },
  {
   "cell_type": "code",
   "execution_count": 24,
   "metadata": {},
   "outputs": [
    {
     "name": "stdout",
     "output_type": "stream",
     "text": [
      "[Open3D WARNING] GLFW Error: WGL: Failed to make context current: ハンドルが無効です。 \n",
      "[Open3D WARNING] GLFW Error: WGL: Failed to make context current: 要求された変換操作はサポートされていません。 \n"
     ]
    }
   ],
   "source": [
    "from utils.visualizer import visualize_pcds, save_video\n",
    "\n",
    "time_duration = 0 #time duration for visualization\n",
    "\n",
    "#if you don't save images, set save_folder as None\n",
    "visualize_pcds(file_list, save_folder=folder_images, time_duration=time_duration)"
   ]
  },
  {
   "cell_type": "markdown",
   "metadata": {},
   "source": [
    "make video from images folder"
   ]
  },
  {
   "cell_type": "code",
   "execution_count": 25,
   "metadata": {},
   "outputs": [],
   "source": [
    "import cv2\n",
    "import os\n",
    "\n",
    "# Directory containing the images\n",
    "image_folder = folder_images\n",
    "# Output video file name\n",
    "video_name = './video.mp4'\n",
    "\n",
    "fps=10 #fps for the video\n",
    "\n",
    "save_video(image_folder, video_name, fps=fps, step=1) #step means the stride of fremes"
   ]
  }
 ],
 "metadata": {
  "kernelspec": {
   "display_name": "lidar_soccer",
   "language": "python",
   "name": "python3"
  },
  "language_info": {
   "codemirror_mode": {
    "name": "ipython",
    "version": 3
   },
   "file_extension": ".py",
   "mimetype": "text/x-python",
   "name": "python",
   "nbconvert_exporter": "python",
   "pygments_lexer": "ipython3",
   "version": "3.10.0"
  }
 },
 "nbformat": 4,
 "nbformat_minor": 2
}
