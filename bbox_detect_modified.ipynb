{
 "cells": [
  {
   "cell_type": "code",
   "execution_count": 9,
   "metadata": {},
   "outputs": [],
   "source": [
    "#after running this, no need to restart the kurnel when you modify other files.\n",
    "%load_ext autoreload\n",
    "%autoreload 2"
   ]
  },
  {
   "cell_type": "code",
   "execution_count": 10,
   "metadata": {},
   "outputs": [
    {
     "name": "stdout",
     "output_type": "stream",
     "text": [
      "set the view point and close the window\n"
     ]
    }
   ],
   "source": [
    "import os\n",
    "import numpy as np\n",
    "import open3d\n",
    "from settings import DATA_PATH\n",
    "import clusterization.clusterize as clusterizer\n",
    "import numpy as np\n",
    "from utils.visualizer import save_camera_params\n",
    "from utils.handling_cluster import visualize_by_cluster_bbox, crop_cluster, visualize_bbox_result\n",
    "from detection.detect import compute_nearest_cluster_multicase, compute_bbox, save_bbox_result, change_cluster_color\n",
    "import utils.visualizer as visualizer\n",
    "from plane_elimination.plane_elimination import eliminate_planes\n",
    "from plane_elimination.plane_equotions_list import planes_list, bool_list #list to define plane equotions\n",
    "\n",
    "data_type_name_pcd = \"LIVOX_Hallway_pcds\"\n",
    "experiment_name = \"jogging_fast_4th\"\n",
    "dir_name = \"res100ms_start13.5s\"\n",
    "\n",
    "#directory path of pcd files\n",
    "directory_path = os.path.join(DATA_PATH, data_type_name_pcd, experiment_name, dir_name)\n",
    "#'{DATA_PATH}/LIVOX_Hallway_pcds/jogging_fast_4th/res100ms_start13.5s'\n",
    "\n",
    "#add save_path\n",
    "experiment_name_clustered = experiment_name + \"_clustered\"\n",
    "dir_name_clustered= dir_name + \"_clustered\"\n",
    "folder_clustered = os.path.join(DATA_PATH, data_type_name_pcd, experiment_name_clustered, dir_name_clustered)\n",
    "\n",
    "if not os.path.exists(folder_clustered):\n",
    "    os.makedirs(folder_clustered)\n",
    "\n",
    "# make the list of files\n",
    "file_list = []\n",
    "for filename in os.listdir(directory_path):\n",
    "    if os.path.isfile(os.path.join(directory_path, filename)):\n",
    "        file_list.append(os.path.join(directory_path, filename))\n",
    "        \n",
    "#select your view point and close your window.\n",
    "pcd = open3d.io.read_point_cloud(file_list[0])\n",
    "cam_params = save_camera_params(pcd)"
   ]
  },
  {
   "cell_type": "code",
   "execution_count": 11,
   "metadata": {},
   "outputs": [
    {
     "name": "stdout",
     "output_type": "stream",
     "text": [
      "num_clusters 1\n",
      "Cluster -1 Bounding Box:\n",
      "Cluster 0 Bounding Box:\n",
      "filtered_labels: []\n"
     ]
    },
    {
     "ename": "ValueError",
     "evalue": "invalid literal for int() with base 10: ''",
     "output_type": "error",
     "traceback": [
      "\u001b[1;31m---------------------------------------------------------------------------\u001b[0m",
      "\u001b[1;31mValueError\u001b[0m                                Traceback (most recent call last)",
      "Cell \u001b[1;32mIn[11], line 45\u001b[0m\n\u001b[0;32m     43\u001b[0m     visualize_by_cluster_bbox(pcd, labels, filtered_labels)\n\u001b[0;32m     44\u001b[0m     filtered_labels \u001b[38;5;241m=\u001b[39m \u001b[38;5;28minput\u001b[39m(\u001b[38;5;124m\"\u001b[39m\u001b[38;5;124mPlease enter cluster ids, format example: 0,1,2.. \u001b[39m\u001b[38;5;124m\"\u001b[39m)\u001b[38;5;241m.\u001b[39msplit(\u001b[38;5;124m'\u001b[39m\u001b[38;5;124m,\u001b[39m\u001b[38;5;124m'\u001b[39m)\n\u001b[1;32m---> 45\u001b[0m     filtered_labels \u001b[38;5;241m=\u001b[39m [\u001b[38;5;28mint\u001b[39m(x) \u001b[38;5;28;01mfor\u001b[39;00m x \u001b[38;5;129;01min\u001b[39;00m filtered_labels]\n\u001b[0;32m     47\u001b[0m human_clusters \u001b[38;5;241m=\u001b[39m np\u001b[38;5;241m.\u001b[39mempty((\u001b[38;5;241m0\u001b[39m,\u001b[38;5;241m3\u001b[39m))\n\u001b[0;32m     48\u001b[0m \u001b[38;5;66;03m#select cluster id in comand line. check each window name.\u001b[39;00m\n",
      "Cell \u001b[1;32mIn[11], line 45\u001b[0m, in \u001b[0;36m<listcomp>\u001b[1;34m(.0)\u001b[0m\n\u001b[0;32m     43\u001b[0m     visualize_by_cluster_bbox(pcd, labels, filtered_labels)\n\u001b[0;32m     44\u001b[0m     filtered_labels \u001b[38;5;241m=\u001b[39m \u001b[38;5;28minput\u001b[39m(\u001b[38;5;124m\"\u001b[39m\u001b[38;5;124mPlease enter cluster ids, format example: 0,1,2.. \u001b[39m\u001b[38;5;124m\"\u001b[39m)\u001b[38;5;241m.\u001b[39msplit(\u001b[38;5;124m'\u001b[39m\u001b[38;5;124m,\u001b[39m\u001b[38;5;124m'\u001b[39m)\n\u001b[1;32m---> 45\u001b[0m     filtered_labels \u001b[38;5;241m=\u001b[39m [\u001b[38;5;28;43mint\u001b[39;49m\u001b[43m(\u001b[49m\u001b[43mx\u001b[49m\u001b[43m)\u001b[49m \u001b[38;5;28;01mfor\u001b[39;00m x \u001b[38;5;129;01min\u001b[39;00m filtered_labels]\n\u001b[0;32m     47\u001b[0m human_clusters \u001b[38;5;241m=\u001b[39m np\u001b[38;5;241m.\u001b[39mempty((\u001b[38;5;241m0\u001b[39m,\u001b[38;5;241m3\u001b[39m))\n\u001b[0;32m     48\u001b[0m \u001b[38;5;66;03m#select cluster id in comand line. check each window name.\u001b[39;00m\n",
      "\u001b[1;31mValueError\u001b[0m: invalid literal for int() with base 10: ''"
     ]
    }
   ],
   "source": [
    "#add save_path\n",
    "experiment_name_tracked = experiment_name + \"_bbox_tracked\"\n",
    "dir_name_tracked= dir_name + \"_bbox_tracked\"\n",
    "folder_tracked = os.path.join(DATA_PATH, data_type_name_pcd, experiment_name_tracked, dir_name_tracked)\n",
    "\n",
    "if not os.path.exists(folder_tracked):\n",
    "    os.makedirs(folder_tracked)\n",
    "\n",
    "#initialization\n",
    "eps = 0.5\n",
    "center_prev_list = []  #initialize the center list for the next frame\n",
    "center_prev = np.zeros(3) #initialize center of human cluster in previous frame\n",
    "cluster_ids = []\n",
    "\n",
    "#clusterize each files and visualize.\n",
    "for i, pcd_file in enumerate(file_list):\n",
    "    pcd = open3d.io.read_point_cloud(pcd_file)\n",
    "    \n",
    "    pcd_clustered = folder_clustered + \"/\" + os.path.basename(pcd_file) #pcd_clustered_save_path   \n",
    "    \n",
    "    #eliminate points by planes\n",
    "    pcd = eliminate_planes(pcd, planes_list=planes_list, bool_list=bool_list, visualize=False)\n",
    "    \n",
    "    #clusterization\n",
    "    pcd, labels = clusterizer.clusterize(pcd, eps=eps,\n",
    "                             time_duration=None, #time duration that each windows open for. If you choose None, close window manually.\n",
    "                             window_name=os.path.basename(pcd_file), #window name changes accorrding to file name.\n",
    "                             cam_params=cam_params,#camera parameter(view point) you selected\n",
    "                             save_path=pcd_clustered,\n",
    "                             visualize=False\n",
    "                             ) \n",
    "    \n",
    "    \n",
    "    filtered_labels = compute_bbox(pcd,labels)\n",
    "    \n",
    "    \n",
    "    #color of points in cluster_id is changed into red.\n",
    "    #pcd = change_cluster_color(pcd, labels, cluster_id=filtered_labels)\n",
    "    #visualizer.visualize(pcd, time_duration=None, cam_params=cam_params)\n",
    "    \n",
    "    #select human cluster in first frame\n",
    "    if i==0:\n",
    "        visualize_by_cluster_bbox(pcd, labels, filtered_labels)\n",
    "        filtered_labels = input(\"Please enter cluster ids, format example: 0,1,2.. \").split(',')\n",
    "        filtered_labels = [int(x) for x in filtered_labels]\n",
    "        \n",
    "    human_clusters = np.empty((0,3))\n",
    "    #select cluster id in comand line. check each window name.\n",
    "    for inx, fl_label in enumerate(filtered_labels):\n",
    "        if i==0:                                     # for the first frame\n",
    "            cluster_id = fl_label\n",
    "        else:\n",
    "            inx, cluster_id = compute_nearest_cluster_multicase(pcd, labels, fl_label, center_prev_list)\n",
    "            \n",
    "        #crop (and save) selected cluser\n",
    "        cropped_pcd = crop_cluster(pcd, labels, cluster_id=cluster_id, visualize=False)\n",
    "        \n",
    "        center_tmp = cropped_pcd.get_center()\n",
    "\n",
    "        \n",
    "        if i==0:   \n",
    "            center_prev_list.append([inx, center_tmp])\n",
    "\n",
    "            # save the cropped cluster(pcd, save_path)\n",
    "            save_bbox_result(inx, folder_tracked, pcd_file, cropped_pcd)\n",
    "\n",
    "            human_clusters = np.append(human_clusters, cropped_pcd.points, axis=0)\n",
    "            \n",
    "        else:  #update center if current cluster is close to previous one\n",
    "            center_prev = center_prev_list[inx][1]\n",
    "            current_dist = np.linalg.norm (center_prev - center_tmp)\n",
    "            if 0.1< current_dist < 5:\n",
    "                #update the previous center list\n",
    "                center_prev_list[inx][1] = center_tmp\n",
    "                # save the cropped cluster(pcd, save_path)\n",
    "                save_bbox_result(inx, folder_tracked, pcd_file, cropped_pcd)\n",
    "                \n",
    "                human_clusters = np.append(human_clusters, cropped_pcd.points, axis=0)\n",
    "\n",
    "    # visulize the bbox result of each frame\n",
    "    visualize_bbox_result(pcd, human_clusters, time_duration=0.2, cam_params=cam_params, visualize=True)\n"
   ]
  },
  {
   "cell_type": "markdown",
   "metadata": {},
   "source": []
  }
 ],
 "metadata": {
  "kernelspec": {
   "display_name": "pcp",
   "language": "python",
   "name": "python3"
  },
  "language_info": {
   "codemirror_mode": {
    "name": "ipython",
    "version": 3
   },
   "file_extension": ".py",
   "mimetype": "text/x-python",
   "name": "python",
   "nbconvert_exporter": "python",
   "pygments_lexer": "ipython3",
   "version": "3.10.0"
  }
 },
 "nbformat": 4,
 "nbformat_minor": 2
}
