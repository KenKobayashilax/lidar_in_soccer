{
 "cells": [
  {
   "cell_type": "markdown",
   "metadata": {},
   "source": [
    "Clusterize sequence pcd files"
   ]
  },
  {
   "cell_type": "code",
   "execution_count": null,
   "metadata": {},
   "outputs": [],
   "source": [
    "import os\n",
    "import open3d\n",
    "from settings import DATA_PATH\n",
    "import clusterization.clusterize as clusterizer\n",
    "from utils.visualizer import save_camera_params\n",
    "\n",
    "data_type_name_pcd = \"LIVOX_Hallway_pcds\"\n",
    "experiment_name = \"jogging_fast_4th\"\n",
    "dir_name = \"res100ms_start13.5s\"\n",
    "    \n",
    "#directory path of pcd files\n",
    "directory_path = os.path.join(DATA_PATH, data_type_name_pcd, experiment_name, dir_name)\n",
    "#'{DATA_PATH}/LIVOX_Hallway_pcds/jogging_fast_4th/res100ms_start13.5s'\n",
    "\n",
    "experiment_name_clustered = experiment_name + \"_clustered\"\n",
    "dir_name_clustered= dir_name + \"_clustered\"\n",
    "folder_clustered = os.path.join(DATA_PATH, data_type_name_pcd, experiment_name_clustered, dir_name_clustered)\n",
    "\n",
    "if not os.path.exists(folder_clustered):\n",
    "    os.makedirs(folder_clustered)\n",
    "\n",
    "# make the list of files\n",
    "file_list = []\n",
    "for filename in os.listdir(directory_path):\n",
    "    if os.path.isfile(os.path.join(directory_path, filename)):\n",
    "        file_list.append(os.path.join(directory_path, filename))\n",
    "\n",
    "#select your view point and close your window.\n",
    "pcd = open3d.io.read_point_cloud(file_list[0])\n",
    "cam_params = save_camera_params(pcd)\n",
    "\n",
    "label_list = [] #accumulate cluster labels in each frame\n",
    "\n",
    "#clusterize each files and visualize.\n",
    "for pcd_file in file_list:\n",
    "    pcd = open3d.io.read_point_cloud(pcd_file)\n",
    "    pcd_clustered = folder_clustered + \"/\" + os.path.basename(pcd_file) #pcd_clustered_save_path\n",
    "    pcd, labels = clusterizer.clusterize(pcd, eps=0.5, #eps in \n",
    "                             time_duration=0.2, #time duration that each windows open for. If you choose None, close window manually.\n",
    "                             window_name=os.path.basename(pcd_file), #window name changes accorrding to file name.\n",
    "                             cam_params=cam_params,\n",
    "                             save_path=pcd_clustered,\n",
    "                             visualize=False) #camera parameter(view point) you selected\n",
    "    label_list.append(labels)  \n",
    "\n",
    "#label_list could be used later."
   ]
  },
  {
   "cell_type": "markdown",
   "metadata": {},
   "source": [
    "Clustrize single pcd file"
   ]
  },
  {
   "cell_type": "code",
   "execution_count": null,
   "metadata": {},
   "outputs": [],
   "source": [
    "import os\n",
    "import open3d\n",
    "from settings import DATA_PATH\n",
    "import clusterization.clusterize as clusterize\n",
    "\n",
    "data_type_name_pcd = \"LIVOX_Hallway_pcds\"\n",
    "experiment_name = \"jogging_fast_4th\"\n",
    "dir_name = \"res100ms_start13.5s\"\n",
    "file_name = \"00000.pcd\"\n",
    "    \n",
    "#directory path of pcd files\n",
    "file_path = os.path.join(DATA_PATH, data_type_name_pcd, \\\n",
    "    experiment_name, dir_name, file_name)\n",
    "#'{DATA_PATH}/LIVOX_Hallway_pcds/jogging_fast_4th/res100ms_start13.5s/00000.pcd'\n",
    "\n",
    "#clusterize each files and visualize.\n",
    "pcd = open3d.io.read_point_cloud(file_path)\n",
    "labels = clusterize.clusterize(pcd, eps=0.5, #eps in \n",
    "                            time_duration=None, #time duration that each windows open for.\n",
    "                            window_name=os.path.basename(file_path), #window name changes accorrding to file name.\n",
    "                            cam_params=cam_params) #camera parameter(view point) you selected\n",
    "label_list.append(labels)  \n"
   ]
  }
 ],
 "metadata": {
  "kernelspec": {
   "display_name": "lidar_soccer",
   "language": "python",
   "name": "python3"
  },
  "language_info": {
   "codemirror_mode": {
    "name": "ipython",
    "version": 3
   },
   "file_extension": ".py",
   "mimetype": "text/x-python",
   "name": "python",
   "nbconvert_exporter": "python",
   "pygments_lexer": "ipython3",
   "version": "3.10.0"
  }
 },
 "nbformat": 4,
 "nbformat_minor": 2
}
